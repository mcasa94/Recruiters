{
 "cells": [
  {
   "cell_type": "code",
   "execution_count": null,
   "metadata": {
    "scrolled": false
   },
   "outputs": [],
   "source": [
    "import requests_html,time,yahoo_fin,collections,csv\n",
    "from datetime import datetime as dt,time as t\n",
    "from yahoo_fin import stock_info as si\n",
    "\n",
    "#Setup Working Dir., lists, and Dicts. Replace * with your current user file path. \n",
    "wd = \"C://Users//*//Desktop//\"\n",
    "\n",
    "stocks = {}\n",
    "\n",
    "# Add tickers that you want to track live price for to Tockers\n",
    "tockers = [\"aapl\",\"amzn\",\"^gspc\"]"
   ]
  },
  {
   "cell_type": "code",
   "execution_count": null,
   "metadata": {},
   "outputs": [],
   "source": [
    "#Function to setup necessarry dictionaries.\n",
    "def make_dicts(tockers = []):\n",
    "    for x in tockers:\n",
    "        stocks[x]= {}\n",
    "make_dicts(tockers)\n",
    "print (stocks)\n",
    "print (\"Dictionaries Created Successfully!\")\n",
    "\n",
    "# Function to check that the time is during market hours. \n",
    "def is_time_between(begin_time, end_time, check_time=None):\n",
    "    # If check time is not given, default to current sys time\n",
    "    check_time = check_time or dt.now().time()\n",
    "    if begin_time < end_time:\n",
    "        return check_time >= begin_time and check_time <= end_time\n",
    "    else: # crosses midnight\n",
    "        return check_time >= begin_time or check_time <= end_time\n",
    "# Should return True if the time is correct.   \n",
    "is_time_between(t(9,30), t(16,0))\n",
    "\n",
    "#Funtion to get live price from Yahoo Finance\n",
    "def get_price(a_ticker):\n",
    "    return(si.get_live_price(a_ticker))\n",
    "print(\"Function: get_price Defined Successfully!\")\n",
    "\n",
    "#Function to write a dictionary key values into .csv file\n",
    "def write_to_file(k,v):\n",
    "    fname = wd+\"{}_{}.csv\".format(k,dt.now().strftime(\"%m.%d.%y\"))\n",
    "    with open(fname, 'w') as f:\n",
    "        w = csv.writer(f, delimiter = ',')\n",
    "        for (key, value) in v.items():\n",
    "            w.writerow([key, value])\n",
    "        print(\"File {}_{}.csv successfully created\".format(k,dt.now().strftime(\"%m.%d.%y\")))\n",
    "print(\"Function: write_to_file Defined Successfully!\")\n",
    "\n",
    "#Function to update the dictionaries with the live price associated with the ticker\n",
    "def update_stocks_dict(a_dict):\n",
    "    print(\"Updating\")\n",
    "    for (k, v) in a_dict.items():\n",
    "        v.update({dt.now().strftime(\"%H:%M\") : get_price(k)})\n",
    "        print(\"Got {}\".format(k.upper()))  \n",
    "        write_to_file(k,v)\n",
    "print(\"Function: update_stocks_dict Defined Successfully!\")\n",
    "\n",
    "#Update passes all previous functions to get the live price and timestamp it, then write it to the appropriate\n",
    "#csv fiile on the desktop. Only works during Market Hours. Will quit otherwise. \n",
    "def update():\n",
    "    print (\"Lets get some stocks!\")\n",
    "    try:\n",
    "        while is_time_between(t(9,30), t(16,0)) is True:\n",
    "            for i in range(1):\n",
    "                update_stocks_dict(stocks)\n",
    "                print (\"\\nSleeping zzz...\")\n",
    "                time.sleep(20)\n",
    "                # time.sleep is in seconds. 300 = 5min, 600 = 10 min.\n",
    "                #If the trading day ends while it is asleep, it must finish the sleep period\n",
    "                #prior to terminating the script. \n",
    "        print(\"The trading day has ended.\")      \n",
    "    except KeyboardInterrupt:\n",
    "            print('\\nProcess stopped by user.')\n",
    "           # Handle the Ctrl-C exception to keep its error message from displaying.\n",
    "print(\"Function: update Defined Succesffully!\")"
   ]
  },
  {
   "cell_type": "code",
   "execution_count": null,
   "metadata": {
    "scrolled": false
   },
   "outputs": [],
   "source": [
    "#Run this cell to run the program!\n",
    "update()"
   ]
  }
 ],
 "metadata": {
  "kernelspec": {
   "display_name": "Python 3",
   "language": "python",
   "name": "python3"
  },
  "language_info": {
   "codemirror_mode": {
    "name": "ipython",
    "version": 3
   },
   "file_extension": ".py",
   "mimetype": "text/x-python",
   "name": "python",
   "nbconvert_exporter": "python",
   "pygments_lexer": "ipython3",
   "version": "3.7.3"
  }
 },
 "nbformat": 4,
 "nbformat_minor": 2
}
